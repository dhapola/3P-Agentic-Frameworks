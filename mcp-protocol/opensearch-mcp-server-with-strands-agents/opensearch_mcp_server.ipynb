{
 "cells": [
  {
   "cell_type": "markdown",
   "id": "a4d6cc2c",
   "metadata": {},
   "source": [
    "# OpenSearch MCP Server with Strands Agents"
   ]
  },
  {
   "cell_type": "markdown",
   "id": "f6b03617-3b79-4752-8201-98dc8474ee37",
   "metadata": {},
   "source": [
    "This notebook demonstrates how to set up and use OpenSearch MCP server in stdio and streaming (SSE/Streamable HTTP) protocols with Strands Agents, including server configuration and tool execution. For complete documentation, see [opensearch-mcp-server-py](https://github.com/opensearch-project/opensearch-mcp-server-py) repository."
   ]
  },
  {
   "cell_type": "markdown",
   "id": "5ee489a9-8fc6-4d04-886b-abd6f87903a7",
   "metadata": {},
   "source": [
    "## Table of Contents"
   ]
  },
  {
   "cell_type": "markdown",
   "id": "389e8713-d814-4a5f-b6a9-12f72dc24646",
   "metadata": {},
   "source": [
    "- [Prerequisites](#Prerequisites)\n",
    "- Basic Setup\n",
    "  1. [Standard I/O (stdio) Server](#Standard-I/O-(stdio)-Server)\n",
    "  2. [Streamable HTTP](#Streamable-HTTP)\n",
    "  3. [Server-Sent Events (SSE)](#Server-Sent-Events-(SSE))\n",
    "- Advanced Features\n",
    "  - [Multi-cluster Support](#Multi-cluster-Support)\n",
    "  - [Tool Filter](#Tool-Filter)\n",
    "- [Clean Up](#Clean-Up)"
   ]
  },
  {
   "cell_type": "markdown",
   "id": "34474119-b99e-4110-b72e-cd71a3b58343",
   "metadata": {},
   "source": [
    "## Prerequisites"
   ]
  },
  {
   "cell_type": "markdown",
   "id": "24ae4373-e8bb-4b9c-a487-e7ee92a74607",
   "metadata": {},
   "source": [
    "### 1. Install required packages"
   ]
  },
  {
   "cell_type": "code",
   "execution_count": null,
   "id": "7493ac9d-3b24-4e33-8655-fe6c00d8fdde",
   "metadata": {},
   "outputs": [],
   "source": [
    "%pip install strands-agents --quiet\n",
    "%pip install strands-agents-tools --quiet"
   ]
  },
  {
   "cell_type": "markdown",
   "id": "c6f6bfb3-293c-48d8-acb4-218bf8075ec4",
   "metadata": {},
   "source": [
    "### 2. Configure AWS credentials for Amazon Bedrock model"
   ]
  },
  {
   "cell_type": "markdown",
   "id": "c6a664ec-5c87-4007-8f13-5c32b0055c94",
   "metadata": {},
   "source": [
    "Strands Agents supports many different model providers. In this notebook, we'll be using the default Amazon Bedrock model provider with Claude 3.7 model."
   ]
  },
  {
   "cell_type": "code",
   "execution_count": null,
   "id": "6df87c42-6dac-48af-abfa-7d077c571704",
   "metadata": {},
   "outputs": [],
   "source": [
    "import os\n",
    "\n",
    "os.environ['AWS_REGION'] = \"<your_aws_region>\"\n",
    "os.environ['AWS_ACCESS_KEY_ID'] = \"<your_aws_access_key>\"\n",
    "os.environ['AWS_SECRET_ACCESS_KEY'] = \"<your_aws_secret_access_key>\"\n",
    "os.environ['AWS_SESSION_TOKEN'] = \"<your_aws_session_token>\"  # optional"
   ]
  },
  {
   "cell_type": "markdown",
   "id": "ec8bcc9f",
   "metadata": {},
   "source": [
    "## Standard I/O (stdio) Server"
   ]
  },
  {
   "cell_type": "markdown",
   "id": "f44744a5-94e8-434c-8be6-f5e8d08ebebb",
   "metadata": {},
   "source": [
    "Configure OpenSearch MCP server with `stdio` protocol and interact with the agent using the code below. Type `/quit` to exit."
   ]
  },
  {
   "cell_type": "code",
   "execution_count": null,
   "id": "39c18413",
   "metadata": {},
   "outputs": [],
   "source": [
    "from mcp import stdio_client, StdioServerParameters\n",
    "from strands import Agent\n",
    "from strands.tools.mcp import MCPClient\n",
    "\n",
    "# Connect to an OpenSearch MCP server using stdio transport\n",
    "stdio_mcp_client = MCPClient(lambda: stdio_client(\n",
    "    StdioServerParameters(\n",
    "        command=\"uvx\", \n",
    "        args=[\"opensearch-mcp-server-py\"],\n",
    "        env={\n",
    "            \"OPENSEARCH_URL\": \"<your_opensearch_domain_url>\",\n",
    "            \"OPENSEARCH_USERNAME\": \"<your_opensearch_domain_username>\",\n",
    "            \"OPENSEARCH_PASSWORD\": \"<your_opensearch_domain_password>\",\n",
    "        }\n",
    "    )\n",
    "))\n",
    "\n",
    "# Create an agent with MCP tools\n",
    "with stdio_mcp_client:\n",
    "    # Get the tools from the MCP server\n",
    "    tools = stdio_mcp_client.list_tools_sync()\n",
    "\n",
    "    # Create an agent with these tools\n",
    "    agent = Agent(tools=tools)\n",
    "\n",
    "    while True:\n",
    "        try:\n",
    "            user_input = input(\"\\n> \")\n",
    "            if user_input == \"/quit\":\n",
    "                break\n",
    "            agent(user_input)\n",
    "\n",
    "        except KeyboardInterrupt:\n",
    "            print(\"\\n\\nExecution interrupted. Exiting...\")\n",
    "            break\n",
    "        except Exception as e:\n",
    "            print(f\"\\nAn error occurred: {str(e)}\")\n",
    "            print(\"Please try a different request.\")"
   ]
  },
  {
   "cell_type": "markdown",
   "id": "fa7d48b2",
   "metadata": {},
   "source": [
    "## Streamable HTTP"
   ]
  },
  {
   "cell_type": "markdown",
   "id": "752a9886",
   "metadata": {},
   "source": [
    "Follow these steps to setup OpenSearch MCP server with `streamable HTTP` protocol:"
   ]
  },
  {
   "cell_type": "markdown",
   "id": "80418586",
   "metadata": {},
   "source": [
    "### 1. Install `opensearch-mcp-server-py` package"
   ]
  },
  {
   "cell_type": "markdown",
   "id": "639320a5",
   "metadata": {},
   "source": [
    "Opensearch-mcp-server-py can be installed from [PyPI](https://pypi.org/project/opensearch-mcp-server-py/) via pip:"
   ]
  },
  {
   "cell_type": "code",
   "execution_count": null,
   "id": "898dbb08",
   "metadata": {},
   "outputs": [],
   "source": [
    "%pip install opensearch-mcp-server-py --quiet"
   ]
  },
  {
   "cell_type": "markdown",
   "id": "5e3097d9-f1d6-4173-839b-80c51c8500cd",
   "metadata": {},
   "source": [
    "### 2. Set preferred authentication"
   ]
  },
  {
   "cell_type": "markdown",
   "id": "d6050684",
   "metadata": {},
   "source": [
    "Both basic authentication and IAM authentication can be configured via either global environment variables or environment variables in agent MCP config file."
   ]
  },
  {
   "cell_type": "markdown",
   "id": "508f233a-3e7f-4ec8-ba11-601ee7b2ce8c",
   "metadata": {},
   "source": [
    "#### a. Basic Authentication"
   ]
  },
  {
   "cell_type": "code",
   "execution_count": null,
   "id": "1d0a1fdc",
   "metadata": {},
   "outputs": [],
   "source": [
    "import os\n",
    "\n",
    "os.environ['OPENSEARCH_URL'] = \"<your_opensearch_domain_url>\"\n",
    "os.environ['OPENSEARCH_USERNAME'] = \"<your_opensearch_domain_username>\"\n",
    "os.environ['OPENSEARCH_PASSWORD'] = \"<your_opensearch_domain_password>\""
   ]
  },
  {
   "cell_type": "markdown",
   "id": "dbfcd24b",
   "metadata": {},
   "source": [
    "#### b. IAM Role Authentication"
   ]
  },
  {
   "cell_type": "code",
   "execution_count": null,
   "id": "dd135d34",
   "metadata": {},
   "outputs": [],
   "source": [
    "import os\n",
    "\n",
    "os.environ['OPENSEARCH_URL'] = \"<your_opensearch_domain_url>\"\n",
    "os.environ['AWS_REGION'] = \"<your_aws_region>\"\n",
    "os.environ['AWS_ACCESS_KEY_ID'] = \"<your_aws_access_key>\"\n",
    "os.environ['AWS_SECRET_ACCESS_KEY'] = \"<your_aws_secret_access_key>\"\n",
    "os.environ['AWS_SESSION_TOKEN'] = \"<your_aws_session_token>\""
   ]
  },
  {
   "cell_type": "markdown",
   "id": "a5840af6",
   "metadata": {},
   "source": [
    "#### c. OpenSearch Serverless"
   ]
  },
  {
   "cell_type": "code",
   "execution_count": null,
   "id": "329b4329",
   "metadata": {},
   "outputs": [],
   "source": [
    "import os\n",
    "\n",
    "os.environ['OPENSEARCH_URL'] = \"<your_opensearch_domain_url>\"\n",
    "os.environ['AWS_OPENSEARCH_SERVERLESS'] = True\n",
    "os.environ['AWS_REGION'] = \"<your_aws_region>\"\n",
    "os.environ['AWS_ACCESS_KEY_ID'] = \"<your_aws_access_key>\"\n",
    "os.environ['AWS_SECRET_ACCESS_KEY'] = \"<your_aws_secret_access_key>\"\n",
    "os.environ['AWS_SESSION_TOKEN'] = \"<your_aws_session_token>\""
   ]
  },
  {
   "cell_type": "markdown",
   "id": "51866d24",
   "metadata": {},
   "source": [
    "### 3. Run the server"
   ]
  },
  {
   "cell_type": "markdown",
   "id": "f2c6219a-f63c-4fbe-944c-4e1da90ed6c4",
   "metadata": {},
   "source": [
    "By default, the server will run on port **9900**. You can change the port number by specifying the port number in below command, for example:\n",
    "\n",
    "`[\"python\", \"-m\", \"mcp_server_opensearch\", \"--transport\", \"stream\", \"--port\", \"<your_desired_port_number>\"]`"
   ]
  },
  {
   "cell_type": "code",
   "execution_count": null,
   "id": "b332fef4",
   "metadata": {},
   "outputs": [],
   "source": [
    "import subprocess\n",
    "process = subprocess.Popen(\n",
    "    [\"python\", \"-m\", \"mcp_server_opensearch\", \"--transport\", \"stream\"],\n",
    "    stdout=subprocess.PIPE,\n",
    "    stderr=subprocess.PIPE\n",
    ")"
   ]
  },
  {
   "cell_type": "markdown",
   "id": "2c0a833c",
   "metadata": {},
   "source": [
    "> Note: The server will keep running in the background, so you can continue using the notebook."
   ]
  },
  {
   "cell_type": "markdown",
   "id": "ded9f358",
   "metadata": {},
   "source": [
    "### 4. Configure Strands Agents"
   ]
  },
  {
   "cell_type": "markdown",
   "id": "048aaa63-c233-429a-a433-8d6d1e06a505",
   "metadata": {},
   "source": [
    "Configure OpenSearch MCP server with `streamable HTTP` protocol and interact with the agent using the code below. Type `/quit` to exit."
   ]
  },
  {
   "cell_type": "code",
   "execution_count": null,
   "id": "0a0a92b0",
   "metadata": {},
   "outputs": [],
   "source": [
    "from mcp.client.streamable_http import streamablehttp_client\n",
    "from strands import Agent\n",
    "from strands.tools.mcp.mcp_client import MCPClient\n",
    "\n",
    "streamable_http_mcp_client = MCPClient(lambda: streamablehttp_client(\"http://localhost:9900/mcp\"))\n",
    "\n",
    "# Create an agent with MCP tools\n",
    "with streamable_http_mcp_client:\n",
    "    # Get the tools from the MCP server\n",
    "    tools = streamable_http_mcp_client.list_tools_sync()\n",
    "\n",
    "    # Create an agent with these tools\n",
    "    agent = Agent(tools=tools)\n",
    "\n",
    "    while True:\n",
    "        try:\n",
    "            user_input = input(\"\\n> \")\n",
    "            if user_input == \"/quit\":\n",
    "                break\n",
    "            agent(user_input)\n",
    "\n",
    "        except KeyboardInterrupt:\n",
    "            print(\"\\n\\nExecution interrupted. Exiting...\")\n",
    "            break\n",
    "        except Exception as e:\n",
    "            print(f\"\\nAn error occurred: {str(e)}\")\n",
    "            print(\"Please try a different request.\")"
   ]
  },
  {
   "cell_type": "markdown",
   "id": "3a4ae5ee-7652-4f61-a622-e837b81bc8f2",
   "metadata": {},
   "source": [
    "## Server-Sent Events (SSE)"
   ]
  },
  {
   "cell_type": "markdown",
   "id": "f1fd9f4d-da39-46ea-8590-c0e37bc1e410",
   "metadata": {},
   "source": [
    "Complete the steps (1-3) from Streamable HTTP section, then configure OpenSearch MCP server with `sse` protocol and interact with the agent using the code below. Type `/quit` to exit."
   ]
  },
  {
   "cell_type": "code",
   "execution_count": null,
   "id": "59590dad-4f29-4b77-a058-288111f5d6d4",
   "metadata": {},
   "outputs": [],
   "source": [
    "from mcp.client.sse import sse_client\n",
    "from strands import Agent\n",
    "from strands.tools.mcp import MCPClient\n",
    "\n",
    "# Connect to an MCP server using SSE transport\n",
    "sse_mcp_client = MCPClient(lambda: sse_client(\"http://localhost:9900/sse\"))\n",
    "\n",
    "# Create an agent with MCP tools\n",
    "with sse_mcp_client:\n",
    "    # Get the tools from the MCP server\n",
    "    tools = sse_mcp_client.list_tools_sync()\n",
    "\n",
    "    # Create an agent with these tools\n",
    "    agent = Agent(tools=tools)\n",
    "\n",
    "    while True:\n",
    "        try:\n",
    "            user_input = input(\"\\n> \")\n",
    "            if user_input == \"/quit\":\n",
    "                break\n",
    "            agent(user_input)\n",
    "\n",
    "        except KeyboardInterrupt:\n",
    "            print(\"\\n\\nExecution interrupted. Exiting...\")\n",
    "            break\n",
    "        except Exception as e:\n",
    "            print(f\"\\nAn error occurred: {str(e)}\")\n",
    "            print(\"Please try a different request.\")"
   ]
  },
  {
   "cell_type": "markdown",
   "id": "fe59961b-1883-4846-8ac5-c0f3198607f5",
   "metadata": {},
   "source": [
    "## Multi-cluster Support"
   ]
  },
  {
   "cell_type": "markdown",
   "id": "a6e12e95-08fa-4769-b116-cb4a381806f8",
   "metadata": {},
   "source": [
    "OpenSearch MCP server operates in either `single` (default) or `multi` model. Whiel single model connects to one cluster, multi model enables connections to multiple clusters. For more detailed information, see [Server Modes](https://github.com/opensearch-project/opensearch-mcp-server-py/blob/main/USER_GUIDE.md#server-modes)."
   ]
  },
  {
   "cell_type": "markdown",
   "id": "d25f8b60-dce7-4c8b-a3fd-330938c1e1e9",
   "metadata": {},
   "source": [
    "Follow these steps to configure an OpenSearch MCP server with multi-cluster support:"
   ]
  },
  {
   "cell_type": "markdown",
   "id": "af2eea6c-4e22-4c1f-b3d6-0b886e1bd656",
   "metadata": {},
   "source": [
    "### 1. Configure a YAML file with clusters information"
   ]
  },
  {
   "cell_type": "markdown",
   "id": "d4a88759-548c-4eb6-8206-e3506589c2f8",
   "metadata": {},
   "source": [
    "This code creates a local `config.yml` file. You can skip this step and use your existing config file or see [example_clusters.yml](https://github.com/opensearch-project/opensearch-mcp-server-py/blob/main/example_clusters.yml) for more configuration examples."
   ]
  },
  {
   "cell_type": "code",
   "execution_count": null,
   "id": "3fe6f3fd-3612-47c2-9319-19c04e42c2e5",
   "metadata": {},
   "outputs": [],
   "source": [
    "# Create config file\n",
    "config = \"\"\"\n",
    "version: \"1.0\"\n",
    "description: \"OpenSearch cluster configurations\"\n",
    "\n",
    "clusters:\n",
    "  local-cluster:\n",
    "    opensearch_url: \"<your_local_cluster_url>\"\n",
    "    opensearch_username: \"<your_local_cluster_username>\"\n",
    "    opensearch_password: \"<your_local_cluster_password>\"\n",
    "\n",
    "  remote-cluster:\n",
    "    opensearch_url: \"<your_remote_cluster_url>\"\n",
    "    opensearch_username: \"<your_remote_cluster_username>\"\n",
    "    opensearch_password: \"<your_remote_cluster_password\"\n",
    "\"\"\"\n",
    "\n",
    "# Write to file\n",
    "with open('config.yml', 'w') as f:\n",
    "    f.write(config)"
   ]
  },
  {
   "cell_type": "markdown",
   "id": "da3542e4-55c5-4612-9900-7717104393a4",
   "metadata": {},
   "source": [
    "### 2. Start the server in `multi` mode"
   ]
  },
  {
   "cell_type": "markdown",
   "id": "09b76aa4-08fe-4ec5-9465-9455d603b5b8",
   "metadata": {},
   "source": [
    "Configure OpenSearch MCP server with `stdio` protocol in `multi` mode and interact with the agent using the code below. Type `/quit` to exit."
   ]
  },
  {
   "cell_type": "code",
   "execution_count": null,
   "id": "02c973cf-9c44-419b-baf6-b7aab473ee4c",
   "metadata": {},
   "outputs": [],
   "source": [
    "from mcp import stdio_client, StdioServerParameters\n",
    "from strands import Agent\n",
    "from strands.tools.mcp import MCPClient\n",
    "\n",
    "# Connect to an OpenSearch MCP server using stdio transport in multi mode\n",
    "stdio_mcp_client = MCPClient(lambda: stdio_client(\n",
    "    StdioServerParameters(\n",
    "        command=\"uvx\", \n",
    "        args=[\n",
    "            \"opensearch-mcp-server-py\",\n",
    "            \"--mode\", \"multi\",\n",
    "            \"--config\", \"config.yml\"\n",
    "        ]\n",
    "    )\n",
    "))\n",
    "\n",
    "# Create an agent with MCP tools\n",
    "with stdio_mcp_client:\n",
    "    # Get the tools from the MCP server\n",
    "    tools = stdio_mcp_client.list_tools_sync()\n",
    "\n",
    "    # Create an agent with these tools\n",
    "    agent = Agent(tools=tools)\n",
    "\n",
    "    while True:\n",
    "        try:\n",
    "            user_input = input(\"\\n> \")\n",
    "            if user_input == \"/quit\":\n",
    "                break\n",
    "            agent(user_input)\n",
    "\n",
    "        except KeyboardInterrupt:\n",
    "            print(\"\\n\\nExecution interrupted. Exiting...\")\n",
    "            break\n",
    "        except Exception as e:\n",
    "            print(f\"\\nAn error occurred: {str(e)}\")\n",
    "            print(\"Please try a different request.\")"
   ]
  },
  {
   "cell_type": "markdown",
   "id": "e7a14b1a-1dc7-4fd9-b624-671cd817d312",
   "metadata": {},
   "source": [
    "Start the server with `streamable HTTP` or `SSE` protocol in `multi` mode:"
   ]
  },
  {
   "cell_type": "code",
   "execution_count": null,
   "id": "c8aa71f9-7f56-4eee-aa16-8f7af6adb2e2",
   "metadata": {},
   "outputs": [],
   "source": [
    "import subprocess\n",
    "process = subprocess.Popen(\n",
    "    [\"python\", \"-m\", \"mcp_server_opensearch\", \"--mode\", \"multi\", \"--config\", \"config.yml\", \"--transport\", \"stream\"],\n",
    "    stdout=subprocess.PIPE,\n",
    "    stderr=subprocess.PIPE\n",
    ")"
   ]
  },
  {
   "cell_type": "markdown",
   "id": "1b1f2c96-f5a8-4f1d-8a42-a0ae008e7950",
   "metadata": {},
   "source": [
    "Then, use the same agent interaction code as shown in the [Streamable HTTP](#Streamable-HTTP) or [Server-Sent Events (SSE)](#Server-Sent-Events-(SSE)) section above."
   ]
  },
  {
   "cell_type": "markdown",
   "id": "751a0ab5-ea63-4dc6-ba84-d6df0d6cf1ac",
   "metadata": {},
   "source": [
    "## Tool Filter"
   ]
  },
  {
   "cell_type": "markdown",
   "id": "c5ac65c5-8087-4c7a-bcc8-2b08ad39e107",
   "metadata": {},
   "source": [
    "OpenSearch MCP server supports tool filtering feature where you can disable specific tools by name, category, or operation type. This can be configured using either a YAML configuration file or environment variables. In this notebook, we will use the YAML file approach. For more detailed information, see [Tool Filter](https://github.com/opensearch-project/opensearch-mcp-server-py/blob/main/USER_GUIDE.md#tool-filter)."
   ]
  },
  {
   "cell_type": "markdown",
   "id": "9fb4dc06-0aee-4e67-baa2-836942d398b2",
   "metadata": {},
   "source": [
    "Follow these steps to configure an OpenSearch MCP server with tool filter:"
   ]
  },
  {
   "cell_type": "markdown",
   "id": "dbd8d516-c394-4dee-a672-b372fb6c3d33",
   "metadata": {},
   "source": [
    "### 1. Configure a YAML file with tool filter configuration"
   ]
  },
  {
   "cell_type": "markdown",
   "id": "8ad4a064-27a7-4459-87af-af5676728771",
   "metadata": {},
   "source": [
    "This example creates a `non-critical` category of tools that will be disabled. Customize the categories and filters based on your requirements."
   ]
  },
  {
   "cell_type": "code",
   "execution_count": null,
   "id": "82f840e2-133c-4658-86af-03eb049f3888",
   "metadata": {},
   "outputs": [],
   "source": [
    "# Create config file\n",
    "config = \"\"\"\n",
    "tool_category:\n",
    "  non-critical:\n",
    "    - ExplainTool\n",
    "    - CountTool\n",
    "\n",
    "tool_filters:\n",
    "  disabled_categories:\n",
    "    - non-critical\n",
    "\"\"\"\n",
    "\n",
    "# Write to file\n",
    "with open('config.yml', 'w') as f:\n",
    "    f.write(config)"
   ]
  },
  {
   "cell_type": "markdown",
   "id": "b4611ee2-c7a6-473e-8ced-5a5aef3b9252",
   "metadata": {},
   "source": [
    "### 2. Start the server with tool filter configuration"
   ]
  },
  {
   "cell_type": "markdown",
   "id": "f654773a-cd59-4f52-b1bc-58963882714f",
   "metadata": {},
   "source": [
    "Configure OpenSearch MCP server with `stdio` protocol with tool filtering enabled. The agent will only have access to non-disabled tools. Type `/quit` to exit."
   ]
  },
  {
   "cell_type": "code",
   "execution_count": null,
   "id": "b6e3f0ef-5a24-482c-aac9-5a84f81984df",
   "metadata": {},
   "outputs": [],
   "source": [
    "from mcp import stdio_client, StdioServerParameters\n",
    "from strands import Agent\n",
    "from strands.tools.mcp import MCPClient\n",
    "\n",
    "# Connect to an OpenSearch MCP server using stdio transport with tool filter configuration file\n",
    "stdio_mcp_client = MCPClient(lambda: stdio_client(\n",
    "    StdioServerParameters(\n",
    "        command=\"uvx\", \n",
    "        args=[\n",
    "            \"opensearch-mcp-server-py\",\n",
    "            \"--config\", \"config.yml\"\n",
    "        ],\n",
    "        env={\n",
    "            \"OPENSEARCH_URL\": \"<your_opensearch_domain_url>\",\n",
    "            \"OPENSEARCH_USERNAME\": \"<your_opensearch_domain_username>\",\n",
    "            \"OPENSEARCH_PASSWORD\": \"<your_opensearch_domain_password>\"\n",
    "        }\n",
    "    )\n",
    "))\n",
    "\n",
    "# Create an agent with MCP tools\n",
    "with stdio_mcp_client:\n",
    "    # Get the tools from the MCP server\n",
    "    tools = stdio_mcp_client.list_tools_sync()\n",
    "\n",
    "    # Create an agent with these tools\n",
    "    agent = Agent(tools=tools)\n",
    "\n",
    "    while True:\n",
    "        try:\n",
    "            user_input = input(\"\\n> \")\n",
    "            if user_input == \"/quit\":\n",
    "                break\n",
    "            agent(user_input)\n",
    "\n",
    "        except KeyboardInterrupt:\n",
    "            print(\"\\n\\nExecution interrupted. Exiting...\")\n",
    "            break\n",
    "        except Exception as e:\n",
    "            print(f\"\\nAn error occurred: {str(e)}\")\n",
    "            print(\"Please try a different request.\")"
   ]
  },
  {
   "cell_type": "markdown",
   "id": "1ce8332c-128c-47e4-b23d-537456e25929",
   "metadata": {},
   "source": [
    "Start the server with `streamable HTTP` or `SSE` protocol, specifying the tool configuration file:"
   ]
  },
  {
   "cell_type": "code",
   "execution_count": null,
   "id": "f9dc7216-a9ab-4bc7-9b58-81cc5b08715d",
   "metadata": {},
   "outputs": [],
   "source": [
    "import subprocess\n",
    "process = subprocess.Popen(\n",
    "    [\"python\", \"-m\", \"mcp_server_opensearch\", \"--config\", \"config.yml\", \"--transport\", \"stream\"],\n",
    "    stdout=subprocess.PIPE,\n",
    "    stderr=subprocess.PIPE\n",
    ")"
   ]
  },
  {
   "cell_type": "markdown",
   "id": "b6409b1c-b3e6-4256-95a8-fa04b5666ae6",
   "metadata": {},
   "source": [
    "Then, use the same agent interaction code as shown in the [Streamable HTTP](#Streamable-HTTP) or [Server-Sent Events (SSE)](#Server-Sent-Events-(SSE)) section above."
   ]
  },
  {
   "cell_type": "markdown",
   "id": "4ee2b6ac-65f5-4516-b602-2710791549b5",
   "metadata": {},
   "source": [
    "## Clean Up"
   ]
  },
  {
   "cell_type": "markdown",
   "id": "817834a4-40b8-421c-9a7e-4655a5a5f86b",
   "metadata": {},
   "source": [
    "### Stop server"
   ]
  },
  {
   "cell_type": "code",
   "execution_count": null,
   "id": "5a9c3c33-7350-4fd4-964d-775b6f53323b",
   "metadata": {},
   "outputs": [],
   "source": [
    "# Graceful termination\n",
    "process.terminate()\n",
    "process.wait()"
   ]
  },
  {
   "cell_type": "markdown",
   "id": "1f3cd5ab-8b66-476d-81c2-a7d4931c9a9d",
   "metadata": {},
   "source": [
    "### Remove configuration file"
   ]
  },
  {
   "cell_type": "code",
   "execution_count": null,
   "id": "2a5d6965-f9b2-4839-b8a5-95bd54e749d0",
   "metadata": {},
   "outputs": [],
   "source": [
    "# Clean up config file\n",
    "import os\n",
    "\n",
    "try:\n",
    "    os.remove('config.yml')\n",
    "    print(\"Config file removed successfully\")\n",
    "except FileNotFoundError:\n",
    "    print(\"Config file already removed\")"
   ]
  }
 ],
 "metadata": {
  "kernelspec": {
   "display_name": "Python 3",
   "language": "python",
   "name": "python3"
  },
  "language_info": {
   "codemirror_mode": {
    "name": "ipython",
    "version": 3
   },
   "file_extension": ".py",
   "mimetype": "text/x-python",
   "name": "python",
   "nbconvert_exporter": "python",
   "pygments_lexer": "ipython3",
   "version": "3.11.10"
  }
 },
 "nbformat": 4,
 "nbformat_minor": 5
}
