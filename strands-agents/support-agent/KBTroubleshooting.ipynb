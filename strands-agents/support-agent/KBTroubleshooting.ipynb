{
 "cells": [
  {
   "cell_type": "markdown",
   "id": "88c824b4-c807-4a26-845e-27fce42a3762",
   "metadata": {},
   "source": [
    "# Vector Index and Knowledge Base Setup\n",
    "\n",
    "This notebook performs the following crucial setup steps:\n",
    "\n",
    "1. Creates a new vector index in the collection\n",
    "2. Establishes a knowledge base in Amazon Bedrock\n",
    "3. Sets up a data source within the knowledge base\n",
    "4. Initiates an ingestion job to populate the knowledge base with data from the data source\n",
    "\n",
    "## Purpose\n",
    "\n",
    "These steps serve as essential prerequisites for the operations detailed in the `CustomerSupport` notebook. Completing this setup ensures that subsequent processes have the necessary data structures and content in place.\n",
    "\n",
    "## Important Note\n",
    "\n",
    "⚠️ Ensure this notebook is executed and all steps are completed successfully before proceeding to the `CustomerSupport` notebook. Failure to do so may result in errors or unexpected behavior in subsequent operations.\n",
    "\n",
    "---\n",
    "\n",
    "For detailed instructions on each step, refer to the code cells below.\n"
   ]
  },
  {
   "cell_type": "code",
   "execution_count": 6,
   "id": "0e1b94a7-1579-413e-988b-75769ab51a04",
   "metadata": {},
   "outputs": [
    {
     "name": "stdout",
     "output_type": "stream",
     "text": [
      "bedrock-workshop-111b4700\n"
     ]
    }
   ],
   "source": [
    "import boto3\n",
    "import os\n",
    "\n",
    "client = boto3.client('s3')\n",
    "response = client.list_buckets()\n",
    "buckets = response['Buckets']\n",
    "for bucket in buckets:\n",
    "    if bucket['Name'].startswith('bedrock-workshop-'):\n",
    "        bucket_name = bucket['Name']\n",
    "        os.environ['S3_BUCKET'] = bucket_name\n",
    "        print(bucket_name)"
   ]
  },
  {
   "cell_type": "markdown",
   "id": "5f7bc1be-a5da-4f8e-b90f-08774dae1679",
   "metadata": {},
   "source": [
    "## Copy troubleshooting runbooks to S3 bucket"
   ]
  },
  {
   "cell_type": "code",
   "execution_count": 7,
   "id": "99e1dae9-5103-439c-a887-2bfd321434f8",
   "metadata": {},
   "outputs": [
    {
     "name": "stdout",
     "output_type": "stream",
     "text": [
      "bedrock-workshop-111b4700\n"
     ]
    }
   ],
   "source": [
    "!echo $S3_BUCKET"
   ]
  },
  {
   "cell_type": "code",
   "execution_count": 8,
   "id": "92b545de-64ab-44ce-a762-7ef95043091e",
   "metadata": {},
   "outputs": [
    {
     "name": "stdout",
     "output_type": "stream",
     "text": [
      "upload: ./troubleshooting_kb.txt to s3://bedrock-workshop-111b4700/KB/dataset.txt\n"
     ]
    }
   ],
   "source": [
    "!aws s3 cp troubleshooting_kb.txt s3://$S3_BUCKET/KB/dataset.txt "
   ]
  },
  {
   "cell_type": "code",
   "execution_count": 9,
   "id": "fcbdd252-2166-43da-af96-65bc184e7f08",
   "metadata": {},
   "outputs": [],
   "source": [
    "# Creating two variables to store the AWS region name and the OpenSearch endpoint (host) of the OpenSearch Serverless collection. You need to change it to the AWS region you are using. To obtain host variable value, in the Amazon OpenSearch Service console, select Collections in the navigation pane. The name of the collection for this workshop is bedrock-workshop-collection. Click on the collection name to view the details of the collection. Take note of the OpenSearch endpoint (host) of the collection.\n",
    "\n",
    "region = 'us-east-1'\n",
    "host = 'https://v1uhc2qhwwr7ng5pvj2h.us-east-1.aoss.amazonaws.com'"
   ]
  },
  {
   "cell_type": "code",
   "execution_count": 10,
   "id": "0c1edba4-174c-41e3-a28c-d732546ab0da",
   "metadata": {},
   "outputs": [
    {
     "name": "stdout",
     "output_type": "stream",
     "text": [
      "Requirement already satisfied: requests_aws4auth in /opt/conda/lib/python3.10/site-packages (1.3.1)\n",
      "Requirement already satisfied: requests in /opt/conda/lib/python3.10/site-packages (from requests_aws4auth) (2.32.3)\n",
      "Requirement already satisfied: charset-normalizer<4,>=2 in /opt/conda/lib/python3.10/site-packages (from requests->requests_aws4auth) (3.3.2)\n",
      "Requirement already satisfied: idna<4,>=2.5 in /opt/conda/lib/python3.10/site-packages (from requests->requests_aws4auth) (3.7)\n",
      "Requirement already satisfied: urllib3<3,>=1.21.1 in /opt/conda/lib/python3.10/site-packages (from requests->requests_aws4auth) (1.26.19)\n",
      "Requirement already satisfied: certifi>=2017.4.17 in /opt/conda/lib/python3.10/site-packages (from requests->requests_aws4auth) (2025.6.15)\n"
     ]
    }
   ],
   "source": [
    "!pip install requests_aws4auth --upgrade"
   ]
  },
  {
   "cell_type": "code",
   "execution_count": null,
   "id": "9abee785-d3ec-4393-98a5-ef1d201f3a1a",
   "metadata": {},
   "outputs": [],
   "source": [
    "import boto3\n",
    "import requests\n",
    "from requests_aws4auth import AWS4Auth\n",
    "\n",
    "service = 'aoss'\n",
    "credentials = boto3.Session().get_credentials()\n",
    "awsauth = AWS4Auth(\n",
    "    credentials.access_key, \n",
    "    credentials.secret_key, \n",
    "    region, \n",
    "    service, \n",
    "    session_token=credentials.token\n",
    ")\n",
    "\n",
    "index = 'workshop-kb-index'\n",
    "url = host + '/' + index\n",
    "\n",
    "headers = {'Content-Type': 'application/json'}\n",
    "document = {\n",
    "   \"settings\": {\n",
    "      \"index.knn\": \"true\",\n",
    "       \"number_of_shards\": 1,\n",
    "       \"knn.algo_param.ef_search\": 512,\n",
    "       \"number_of_replicas\": 0,\n",
    "   },\n",
    "   \"mappings\": {\n",
    "      \"properties\": {\n",
    "         \"vector\": {\n",
    "            \"type\": \"knn_vector\",\n",
    "            \"dimension\": 1536,\n",
    "             \"method\": {\n",
    "                 \"name\": \"hnsw\",\n",
    "                 \"engine\": \"faiss\",\n",
    "                 \"space_type\": \"l2\"\n",
    "             },\n",
    "         },\n",
    "         \"text\": {\n",
    "            \"type\": \"text\"\n",
    "         },\n",
    "         \"text-metadata\": {\n",
    "            \"type\": \"text\"\n",
    "         }\n",
    "      }\n",
    "   }\n",
    "}\n",
    "response = requests.put(url, auth=awsauth, json=document, headers=headers)\n",
    "response.raise_for_status()\n",
    "print(response.json())"
   ]
  },
  {
   "cell_type": "markdown",
   "id": "2d6dd7cb-c0d2-47e5-b188-0b448bfef7f9",
   "metadata": {},
   "source": [
    "### Creating Vector Index"
   ]
  },
  {
   "cell_type": "code",
   "execution_count": 9,
   "id": "326a9626-44b9-4fe2-8bd9-59bded82dfad",
   "metadata": {
    "execution": {
     "iopub.execute_input": "2025-07-03T22:15:45.091211Z",
     "iopub.status.busy": "2025-07-03T22:15:45.090569Z",
     "iopub.status.idle": "2025-07-03T22:15:46.965422Z",
     "shell.execute_reply": "2025-07-03T22:15:46.964697Z",
     "shell.execute_reply.started": "2025-07-03T22:15:45.091182Z"
    }
   },
   "outputs": [
    {
     "name": "stdout",
     "output_type": "stream",
     "text": [
      "Knowledge Base ID: I9YWNTL4EI\n"
     ]
    }
   ],
   "source": [
    "import boto3\n",
    "\n",
    "# Model ARN\n",
    "region  = 'us-east-1'\n",
    "model_arn = f'arn:aws:bedrock:{region}::foundation-model/amazon.titan-embed-text-v1'\n",
    "# IAM role ARN\n",
    "sts = boto3.client('sts')\n",
    "account = sts.get_caller_identity().get('Account')\n",
    "role_arn = f'arn:aws:iam::{account}:role/AgentWorkshopStackKnowledgeBaseRole'\n",
    "# OpenSearch Serverless Collection\n",
    "oss = boto3.client('opensearchserverless')\n",
    "oss_collection_name = 'bedrock-workshop-collection'\n",
    "oss_index_name = 'workshop-kb-index'\n",
    "oss_collection_arn = oss.list_collections(collectionFilters={'name': oss_collection_name}).get('collectionSummaries')[0]['arn']\n",
    "oss_configuration = {\n",
    "    \"collectionArn\": oss_collection_arn,\n",
    "    \"vectorIndexName\": oss_index_name,\n",
    "    \"fieldMapping\": {\n",
    "        \"vectorField\": \"vector\",\n",
    "        \"textField\": \"text\",\n",
    "        \"metadataField\": \"text-metadata\"\n",
    "    }\n",
    "}\n",
    "\n",
    "# Create Knowledge Base\n",
    "kb_name = 'workshop-kb'\n",
    "kb_desc = 'Bedrock workshop knowledge base.'\n",
    "bedrock_agent_client = boto3.client('bedrock-agent')\n",
    "create_kb_response = bedrock_agent_client.create_knowledge_base(\n",
    "    name = kb_name,\n",
    "    description = kb_desc,\n",
    "    roleArn = role_arn,\n",
    "    knowledgeBaseConfiguration = {\n",
    "        \"type\": \"VECTOR\",\n",
    "        \"vectorKnowledgeBaseConfiguration\": {\n",
    "            \"embeddingModelArn\": model_arn\n",
    "        }\n",
    "    },\n",
    "    storageConfiguration = {\n",
    "        \"type\": \"OPENSEARCH_SERVERLESS\",\n",
    "        \"opensearchServerlessConfiguration\":oss_configuration\n",
    "    }\n",
    ")\n",
    "\n",
    "# Print out the Knowledge ID\n",
    "kb_id = create_kb_response[\"knowledgeBase\"][\"knowledgeBaseId\"]\n",
    "print('Knowledge Base ID: {0}'.format(kb_id))"
   ]
  },
  {
   "cell_type": "code",
   "execution_count": null,
   "id": "627dee15-39d2-46c0-bb18-808da63cd391",
   "metadata": {},
   "outputs": [],
   "source": [
    "def save_kb_id(kb_id):\n",
    "    with open('kb_id.txt', 'w') as f:\n",
    "        f.write(kb_id)\n",
    "    print(f\"Saved Knowledge Base ID to kb_id.txt\")"
   ]
  },
  {
   "cell_type": "code",
   "execution_count": null,
   "id": "df5fc866-c741-43f0-97f8-1d868aa15948",
   "metadata": {},
   "outputs": [],
   "source": [
    "# Save Knowledge Base ID\n",
    "save_kb_id(kb_id)"
   ]
  },
  {
   "cell_type": "markdown",
   "id": "21db9bbd-0b74-4aa9-8751-8d7db47e8d84",
   "metadata": {},
   "source": [
    "## Creating Data source"
   ]
  },
  {
   "cell_type": "code",
   "execution_count": 10,
   "id": "2e70c4bd-8e21-4f44-a652-5dfd41b759ea",
   "metadata": {
    "execution": {
     "iopub.execute_input": "2025-07-03T22:17:12.724783Z",
     "iopub.status.busy": "2025-07-03T22:17:12.724343Z",
     "iopub.status.idle": "2025-07-03T22:17:12.971672Z",
     "shell.execute_reply": "2025-07-03T22:17:12.971016Z",
     "shell.execute_reply.started": "2025-07-03T22:17:12.724757Z"
    }
   },
   "outputs": [
    {
     "name": "stdout",
     "output_type": "stream",
     "text": [
      "Data Source ID: TLHOH7CQXB\n"
     ]
    }
   ],
   "source": [
    "import os\n",
    "import boto3\n",
    "\n",
    "# S3 Configuration\n",
    "s3_prefix = \"KB\"\n",
    "s3_configuration = {\n",
    "    \"bucketArn\": f\"arn:aws:s3:::{os.environ['S3_BUCKET']}\",\n",
    "    \"inclusionPrefixes\":[s3_prefix]\n",
    "}\n",
    "# Chunking Configuration\n",
    "chunking_configuration = {\n",
    "    \"chunkingStrategy\": \"FIXED_SIZE\",\n",
    "    \"fixedSizeChunkingConfiguration\": {\n",
    "        \"maxTokens\": 64, \n",
    "        \"overlapPercentage\": 20\n",
    "    }\n",
    "}\n",
    "\n",
    "# Create Data Source\n",
    "data_source_name = \"kb-source\"\n",
    "data_source_desc = \"knowledge base data source\"\n",
    "bedrock_agent_client = boto3.client('bedrock-agent')\n",
    "create_ds_response = bedrock_agent_client.create_data_source(\n",
    "    name = data_source_name,\n",
    "    description = data_source_desc,\n",
    "    knowledgeBaseId = kb_id,\n",
    "    dataSourceConfiguration = {\n",
    "        \"type\": \"S3\",\n",
    "        \"s3Configuration\":s3_configuration\n",
    "    },\n",
    "    vectorIngestionConfiguration = {\n",
    "        \"chunkingConfiguration\": chunking_configuration\n",
    "    }\n",
    ")\n",
    "\n",
    "# Print out the data source ID\n",
    "ds_id = create_ds_response[\"dataSource\"][\"dataSourceId\"]\n",
    "print('Data Source ID: {0}'.format(ds_id))"
   ]
  },
  {
   "cell_type": "markdown",
   "id": "cbc44b8a-5923-4bef-8969-0828ba8fdb69",
   "metadata": {},
   "source": [
    "## Ingestion Job to ingest troubleshooting runbooks"
   ]
  },
  {
   "cell_type": "code",
   "execution_count": 12,
   "id": "8c379f87-31fd-4b08-ac32-c25eb69bc6dc",
   "metadata": {
    "execution": {
     "iopub.execute_input": "2025-07-03T22:21:01.253555Z",
     "iopub.status.busy": "2025-07-03T22:21:01.252927Z",
     "iopub.status.idle": "2025-07-03T22:21:12.472406Z",
     "shell.execute_reply": "2025-07-03T22:21:12.471349Z",
     "shell.execute_reply.started": "2025-07-03T22:21:01.253524Z"
    }
   },
   "outputs": [
    {
     "name": "stdout",
     "output_type": "stream",
     "text": [
      "COMPLETE\n"
     ]
    }
   ],
   "source": [
    "import boto3\n",
    "import time\n",
    "\n",
    "bedrock_agent_client = boto3.client('bedrock-agent')\n",
    "ingestion_job_response = bedrock_agent_client.start_ingestion_job(knowledgeBaseId = kb_id, dataSourceId = ds_id)\n",
    "job = ingestion_job_response[\"ingestionJob\"]\n",
    "\n",
    "while(job['status']!='COMPLETE'):\n",
    "    time.sleep(10)\n",
    "    ingestion_job_response = bedrock_agent_client.get_ingestion_job(\n",
    "        knowledgeBaseId = kb_id,\n",
    "        dataSourceId = ds_id,\n",
    "        ingestionJobId = job[\"ingestionJobId\"])\n",
    "    job = ingestion_job_response[\"ingestionJob\"]\n",
    "    print(job['status'])"
   ]
  },
  {
   "cell_type": "code",
   "execution_count": 13,
   "id": "d21bc295-c4fd-4d24-b332-ac4535087b25",
   "metadata": {
    "execution": {
     "iopub.execute_input": "2025-07-03T22:23:48.659917Z",
     "iopub.status.busy": "2025-07-03T22:23:48.659460Z",
     "iopub.status.idle": "2025-07-03T22:23:49.091864Z",
     "shell.execute_reply": "2025-07-03T22:23:49.091037Z",
     "shell.execute_reply.started": "2025-07-03T22:23:48.659888Z"
    }
   },
   "outputs": [
    {
     "name": "stdout",
     "output_type": "stream",
     "text": [
      "{'content': {'text': 'Request a limit increase if needed Best Practice: Monitor your API usage trends and set up alerts before hitting limits.  Issue: API Authentication Errors Solution: Common authentication issues can be resolved by: 1. Verify API keys are valid and not expired 2.', 'type': 'TEXT'}, 'location': {'s3Location': {'uri': 's3://bedrock-workshop-5f387660/KB/dataset.txt'}, 'type': 'S3'}, 'metadata': {'x-amz-bedrock-kb-source-uri': 's3://bedrock-workshop-5f387660/KB/dataset.txt', 'x-amz-bedrock-kb-chunk-id': '1%3A0%3AOMNh0pcBWfWI1mlsDDL2', 'x-amz-bedrock-kb-data-source-id': 'TLHOH7CQXB'}, 'score': 0.5970031}\n",
      "\n",
      "{'content': {'text': \"Check if the API key has proper permissions 3. Ensure you're using HTTPS for all API calls 4. Validate the API endpoint region matches your configuration Best Practice: Rotate API keys regularly and never share them in code repositories.\", 'type': 'TEXT'}, 'location': {'s3Location': {'uri': 's3://bedrock-workshop-5f387660/KB/dataset.txt'}, 'type': 'S3'}, 'metadata': {'x-amz-bedrock-kb-source-uri': 's3://bedrock-workshop-5f387660/KB/dataset.txt', 'x-amz-bedrock-kb-chunk-id': '1%3A0%3AOcNh0pcBWfWI1mlsDDL2', 'x-amz-bedrock-kb-data-source-id': 'TLHOH7CQXB'}, 'score': 0.59291106}\n",
      "\n",
      "{'content': {'text': \"# API Service Troubleshooting Issue: API Rate Limit Exceeded Solution: If you're hitting API rate limits, check your current usage in the dashboard. Common solutions: 1. Implement request batching 2. Use caching for frequently accessed data 3.\", 'type': 'TEXT'}, 'location': {'s3Location': {'uri': 's3://bedrock-workshop-5f387660/KB/dataset.txt'}, 'type': 'S3'}, 'metadata': {'x-amz-bedrock-kb-source-uri': 's3://bedrock-workshop-5f387660/KB/dataset.txt', 'x-amz-bedrock-kb-chunk-id': '1%3A0%3AN8Nh0pcBWfWI1mlsDDL1', 'x-amz-bedrock-kb-data-source-id': 'TLHOH7CQXB'}, 'score': 0.58670336}\n",
      "\n"
     ]
    }
   ],
   "source": [
    "import boto3\n",
    "\n",
    "query = \"I'm getting authentication errors with the API. Can you help me troubleshoot?\"\n",
    "client = boto3.client('bedrock-agent-runtime')\n",
    "documents = client.retrieve(\n",
    "    retrievalQuery= {\n",
    "        'text': query\n",
    "    },\n",
    "    knowledgeBaseId=kb_id,\n",
    "    retrievalConfiguration= {\n",
    "        'vectorSearchConfiguration': {\n",
    "            'numberOfResults': 3\n",
    "        }\n",
    "    }\n",
    ")\n",
    "for item in documents[\"retrievalResults\"]:\n",
    "    print(item)\n",
    "    print('')"
   ]
  },
  {
   "cell_type": "code",
   "execution_count": null,
   "id": "0a83fbfe-6420-40f9-9131-53738c26cf28",
   "metadata": {},
   "outputs": [],
   "source": []
  }
 ],
 "metadata": {
  "kernelspec": {
   "display_name": "Python 3 (ipykernel)",
   "language": "python",
   "name": "python3"
  },
  "language_info": {
   "codemirror_mode": {
    "name": "ipython",
    "version": 3
   },
   "file_extension": ".py",
   "mimetype": "text/x-python",
   "name": "python",
   "nbconvert_exporter": "python",
   "pygments_lexer": "ipython3",
   "version": "3.10.14"
  }
 },
 "nbformat": 4,
 "nbformat_minor": 5
}
